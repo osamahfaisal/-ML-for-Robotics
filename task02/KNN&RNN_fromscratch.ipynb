{
 "cells": [
  {
   "cell_type": "code",
   "execution_count": 89,
   "metadata": {},
   "outputs": [],
   "source": [
    "import pandas as pd\n",
    "import matplotlib.pyplot as plt\n",
    "import seaborn as sns\n",
    "#Importing the required modules\n",
    "import numpy as np\n",
    "from scipy.stats import mode\n",
    "from sklearn.metrics import confusion_matrix ,ConfusionMatrixDisplay ,accuracy_score,roc_curve"
   ]
  },
  {
   "cell_type": "code",
   "execution_count": 90,
   "metadata": {},
   "outputs": [],
   "source": [
    "df = pd.read_csv(\"Prostate_Cancer.csv\")"
   ]
  },
  {
   "cell_type": "code",
   "execution_count": 91,
   "metadata": {},
   "outputs": [
    {
     "data": {
      "text/plain": [
       "id                     int64\n",
       "diagnosis_result      object\n",
       "radius                 int64\n",
       "texture                int64\n",
       "perimeter              int64\n",
       "area                   int64\n",
       "smoothness           float64\n",
       "compactness          float64\n",
       "symmetry             float64\n",
       "fractal_dimension    float64\n",
       "dtype: object"
      ]
     },
     "execution_count": 91,
     "metadata": {},
     "output_type": "execute_result"
    }
   ],
   "source": [
    "df.dtypes"
   ]
  },
  {
   "cell_type": "code",
   "execution_count": 92,
   "metadata": {},
   "outputs": [
    {
     "data": {
      "text/html": [
       "<div>\n",
       "<style scoped>\n",
       "    .dataframe tbody tr th:only-of-type {\n",
       "        vertical-align: middle;\n",
       "    }\n",
       "\n",
       "    .dataframe tbody tr th {\n",
       "        vertical-align: top;\n",
       "    }\n",
       "\n",
       "    .dataframe thead th {\n",
       "        text-align: right;\n",
       "    }\n",
       "</style>\n",
       "<table border=\"1\" class=\"dataframe\">\n",
       "  <thead>\n",
       "    <tr style=\"text-align: right;\">\n",
       "      <th></th>\n",
       "      <th>id</th>\n",
       "      <th>radius</th>\n",
       "      <th>texture</th>\n",
       "      <th>perimeter</th>\n",
       "      <th>area</th>\n",
       "      <th>smoothness</th>\n",
       "      <th>compactness</th>\n",
       "      <th>symmetry</th>\n",
       "      <th>fractal_dimension</th>\n",
       "    </tr>\n",
       "  </thead>\n",
       "  <tbody>\n",
       "    <tr>\n",
       "      <th>count</th>\n",
       "      <td>100.000000</td>\n",
       "      <td>100.000000</td>\n",
       "      <td>100.000000</td>\n",
       "      <td>100.000000</td>\n",
       "      <td>100.000000</td>\n",
       "      <td>100.000000</td>\n",
       "      <td>100.000000</td>\n",
       "      <td>100.000000</td>\n",
       "      <td>100.000000</td>\n",
       "    </tr>\n",
       "    <tr>\n",
       "      <th>mean</th>\n",
       "      <td>50.500000</td>\n",
       "      <td>16.850000</td>\n",
       "      <td>18.230000</td>\n",
       "      <td>96.780000</td>\n",
       "      <td>702.880000</td>\n",
       "      <td>0.102730</td>\n",
       "      <td>0.126700</td>\n",
       "      <td>0.193170</td>\n",
       "      <td>0.064690</td>\n",
       "    </tr>\n",
       "    <tr>\n",
       "      <th>std</th>\n",
       "      <td>29.011492</td>\n",
       "      <td>4.879094</td>\n",
       "      <td>5.192954</td>\n",
       "      <td>23.676089</td>\n",
       "      <td>319.710895</td>\n",
       "      <td>0.014642</td>\n",
       "      <td>0.061144</td>\n",
       "      <td>0.030785</td>\n",
       "      <td>0.008151</td>\n",
       "    </tr>\n",
       "    <tr>\n",
       "      <th>min</th>\n",
       "      <td>1.000000</td>\n",
       "      <td>9.000000</td>\n",
       "      <td>11.000000</td>\n",
       "      <td>52.000000</td>\n",
       "      <td>202.000000</td>\n",
       "      <td>0.070000</td>\n",
       "      <td>0.038000</td>\n",
       "      <td>0.135000</td>\n",
       "      <td>0.053000</td>\n",
       "    </tr>\n",
       "    <tr>\n",
       "      <th>25%</th>\n",
       "      <td>25.750000</td>\n",
       "      <td>12.000000</td>\n",
       "      <td>14.000000</td>\n",
       "      <td>82.500000</td>\n",
       "      <td>476.750000</td>\n",
       "      <td>0.093500</td>\n",
       "      <td>0.080500</td>\n",
       "      <td>0.172000</td>\n",
       "      <td>0.059000</td>\n",
       "    </tr>\n",
       "    <tr>\n",
       "      <th>50%</th>\n",
       "      <td>50.500000</td>\n",
       "      <td>17.000000</td>\n",
       "      <td>17.500000</td>\n",
       "      <td>94.000000</td>\n",
       "      <td>644.000000</td>\n",
       "      <td>0.102000</td>\n",
       "      <td>0.118500</td>\n",
       "      <td>0.190000</td>\n",
       "      <td>0.063000</td>\n",
       "    </tr>\n",
       "    <tr>\n",
       "      <th>75%</th>\n",
       "      <td>75.250000</td>\n",
       "      <td>21.000000</td>\n",
       "      <td>22.250000</td>\n",
       "      <td>114.250000</td>\n",
       "      <td>917.000000</td>\n",
       "      <td>0.112000</td>\n",
       "      <td>0.157000</td>\n",
       "      <td>0.209000</td>\n",
       "      <td>0.069000</td>\n",
       "    </tr>\n",
       "    <tr>\n",
       "      <th>max</th>\n",
       "      <td>100.000000</td>\n",
       "      <td>25.000000</td>\n",
       "      <td>27.000000</td>\n",
       "      <td>172.000000</td>\n",
       "      <td>1878.000000</td>\n",
       "      <td>0.143000</td>\n",
       "      <td>0.345000</td>\n",
       "      <td>0.304000</td>\n",
       "      <td>0.097000</td>\n",
       "    </tr>\n",
       "  </tbody>\n",
       "</table>\n",
       "</div>"
      ],
      "text/plain": [
       "               id      radius     texture   perimeter         area  \\\n",
       "count  100.000000  100.000000  100.000000  100.000000   100.000000   \n",
       "mean    50.500000   16.850000   18.230000   96.780000   702.880000   \n",
       "std     29.011492    4.879094    5.192954   23.676089   319.710895   \n",
       "min      1.000000    9.000000   11.000000   52.000000   202.000000   \n",
       "25%     25.750000   12.000000   14.000000   82.500000   476.750000   \n",
       "50%     50.500000   17.000000   17.500000   94.000000   644.000000   \n",
       "75%     75.250000   21.000000   22.250000  114.250000   917.000000   \n",
       "max    100.000000   25.000000   27.000000  172.000000  1878.000000   \n",
       "\n",
       "       smoothness  compactness    symmetry  fractal_dimension  \n",
       "count  100.000000   100.000000  100.000000         100.000000  \n",
       "mean     0.102730     0.126700    0.193170           0.064690  \n",
       "std      0.014642     0.061144    0.030785           0.008151  \n",
       "min      0.070000     0.038000    0.135000           0.053000  \n",
       "25%      0.093500     0.080500    0.172000           0.059000  \n",
       "50%      0.102000     0.118500    0.190000           0.063000  \n",
       "75%      0.112000     0.157000    0.209000           0.069000  \n",
       "max      0.143000     0.345000    0.304000           0.097000  "
      ]
     },
     "execution_count": 92,
     "metadata": {},
     "output_type": "execute_result"
    }
   ],
   "source": [
    "df.describe()"
   ]
  },
  {
   "cell_type": "code",
   "execution_count": 93,
   "metadata": {},
   "outputs": [
    {
     "data": {
      "text/html": [
       "<div>\n",
       "<style scoped>\n",
       "    .dataframe tbody tr th:only-of-type {\n",
       "        vertical-align: middle;\n",
       "    }\n",
       "\n",
       "    .dataframe tbody tr th {\n",
       "        vertical-align: top;\n",
       "    }\n",
       "\n",
       "    .dataframe thead th {\n",
       "        text-align: right;\n",
       "    }\n",
       "</style>\n",
       "<table border=\"1\" class=\"dataframe\">\n",
       "  <thead>\n",
       "    <tr style=\"text-align: right;\">\n",
       "      <th></th>\n",
       "      <th>id</th>\n",
       "      <th>diagnosis_result</th>\n",
       "      <th>radius</th>\n",
       "      <th>texture</th>\n",
       "      <th>perimeter</th>\n",
       "      <th>area</th>\n",
       "      <th>smoothness</th>\n",
       "      <th>compactness</th>\n",
       "      <th>symmetry</th>\n",
       "      <th>fractal_dimension</th>\n",
       "    </tr>\n",
       "  </thead>\n",
       "  <tbody>\n",
       "    <tr>\n",
       "      <th>0</th>\n",
       "      <td>1</td>\n",
       "      <td>M</td>\n",
       "      <td>23</td>\n",
       "      <td>12</td>\n",
       "      <td>151</td>\n",
       "      <td>954</td>\n",
       "      <td>0.143</td>\n",
       "      <td>0.278</td>\n",
       "      <td>0.242</td>\n",
       "      <td>0.079</td>\n",
       "    </tr>\n",
       "    <tr>\n",
       "      <th>1</th>\n",
       "      <td>2</td>\n",
       "      <td>B</td>\n",
       "      <td>9</td>\n",
       "      <td>13</td>\n",
       "      <td>133</td>\n",
       "      <td>1326</td>\n",
       "      <td>0.143</td>\n",
       "      <td>0.079</td>\n",
       "      <td>0.181</td>\n",
       "      <td>0.057</td>\n",
       "    </tr>\n",
       "    <tr>\n",
       "      <th>2</th>\n",
       "      <td>3</td>\n",
       "      <td>M</td>\n",
       "      <td>21</td>\n",
       "      <td>27</td>\n",
       "      <td>130</td>\n",
       "      <td>1203</td>\n",
       "      <td>0.125</td>\n",
       "      <td>0.160</td>\n",
       "      <td>0.207</td>\n",
       "      <td>0.060</td>\n",
       "    </tr>\n",
       "    <tr>\n",
       "      <th>3</th>\n",
       "      <td>4</td>\n",
       "      <td>M</td>\n",
       "      <td>14</td>\n",
       "      <td>16</td>\n",
       "      <td>78</td>\n",
       "      <td>386</td>\n",
       "      <td>0.070</td>\n",
       "      <td>0.284</td>\n",
       "      <td>0.260</td>\n",
       "      <td>0.097</td>\n",
       "    </tr>\n",
       "    <tr>\n",
       "      <th>4</th>\n",
       "      <td>5</td>\n",
       "      <td>M</td>\n",
       "      <td>9</td>\n",
       "      <td>19</td>\n",
       "      <td>135</td>\n",
       "      <td>1297</td>\n",
       "      <td>0.141</td>\n",
       "      <td>0.133</td>\n",
       "      <td>0.181</td>\n",
       "      <td>0.059</td>\n",
       "    </tr>\n",
       "  </tbody>\n",
       "</table>\n",
       "</div>"
      ],
      "text/plain": [
       "   id diagnosis_result  radius  texture  perimeter  area  smoothness  \\\n",
       "0   1                M      23       12        151   954       0.143   \n",
       "1   2                B       9       13        133  1326       0.143   \n",
       "2   3                M      21       27        130  1203       0.125   \n",
       "3   4                M      14       16         78   386       0.070   \n",
       "4   5                M       9       19        135  1297       0.141   \n",
       "\n",
       "   compactness  symmetry  fractal_dimension  \n",
       "0        0.278     0.242              0.079  \n",
       "1        0.079     0.181              0.057  \n",
       "2        0.160     0.207              0.060  \n",
       "3        0.284     0.260              0.097  \n",
       "4        0.133     0.181              0.059  "
      ]
     },
     "execution_count": 93,
     "metadata": {},
     "output_type": "execute_result"
    }
   ],
   "source": [
    "df.head()"
   ]
  },
  {
   "cell_type": "code",
   "execution_count": 94,
   "metadata": {},
   "outputs": [],
   "source": [
    "# df = pd.get_dummies(df, columns=['diagnosis_result'], drop_first=True )\n",
    "df=df.replace({'diagnosis_result':{'M':1,'B':0}})\n"
   ]
  },
  {
   "cell_type": "code",
   "execution_count": 95,
   "metadata": {},
   "outputs": [
    {
     "data": {
      "text/html": [
       "<div>\n",
       "<style scoped>\n",
       "    .dataframe tbody tr th:only-of-type {\n",
       "        vertical-align: middle;\n",
       "    }\n",
       "\n",
       "    .dataframe tbody tr th {\n",
       "        vertical-align: top;\n",
       "    }\n",
       "\n",
       "    .dataframe thead th {\n",
       "        text-align: right;\n",
       "    }\n",
       "</style>\n",
       "<table border=\"1\" class=\"dataframe\">\n",
       "  <thead>\n",
       "    <tr style=\"text-align: right;\">\n",
       "      <th></th>\n",
       "      <th>id</th>\n",
       "      <th>diagnosis_result</th>\n",
       "      <th>radius</th>\n",
       "      <th>texture</th>\n",
       "      <th>perimeter</th>\n",
       "      <th>area</th>\n",
       "      <th>smoothness</th>\n",
       "      <th>compactness</th>\n",
       "      <th>symmetry</th>\n",
       "      <th>fractal_dimension</th>\n",
       "    </tr>\n",
       "  </thead>\n",
       "  <tbody>\n",
       "    <tr>\n",
       "      <th>0</th>\n",
       "      <td>1</td>\n",
       "      <td>1</td>\n",
       "      <td>23</td>\n",
       "      <td>12</td>\n",
       "      <td>151</td>\n",
       "      <td>954</td>\n",
       "      <td>0.143</td>\n",
       "      <td>0.278</td>\n",
       "      <td>0.242</td>\n",
       "      <td>0.079</td>\n",
       "    </tr>\n",
       "    <tr>\n",
       "      <th>1</th>\n",
       "      <td>2</td>\n",
       "      <td>0</td>\n",
       "      <td>9</td>\n",
       "      <td>13</td>\n",
       "      <td>133</td>\n",
       "      <td>1326</td>\n",
       "      <td>0.143</td>\n",
       "      <td>0.079</td>\n",
       "      <td>0.181</td>\n",
       "      <td>0.057</td>\n",
       "    </tr>\n",
       "    <tr>\n",
       "      <th>2</th>\n",
       "      <td>3</td>\n",
       "      <td>1</td>\n",
       "      <td>21</td>\n",
       "      <td>27</td>\n",
       "      <td>130</td>\n",
       "      <td>1203</td>\n",
       "      <td>0.125</td>\n",
       "      <td>0.160</td>\n",
       "      <td>0.207</td>\n",
       "      <td>0.060</td>\n",
       "    </tr>\n",
       "    <tr>\n",
       "      <th>3</th>\n",
       "      <td>4</td>\n",
       "      <td>1</td>\n",
       "      <td>14</td>\n",
       "      <td>16</td>\n",
       "      <td>78</td>\n",
       "      <td>386</td>\n",
       "      <td>0.070</td>\n",
       "      <td>0.284</td>\n",
       "      <td>0.260</td>\n",
       "      <td>0.097</td>\n",
       "    </tr>\n",
       "    <tr>\n",
       "      <th>4</th>\n",
       "      <td>5</td>\n",
       "      <td>1</td>\n",
       "      <td>9</td>\n",
       "      <td>19</td>\n",
       "      <td>135</td>\n",
       "      <td>1297</td>\n",
       "      <td>0.141</td>\n",
       "      <td>0.133</td>\n",
       "      <td>0.181</td>\n",
       "      <td>0.059</td>\n",
       "    </tr>\n",
       "  </tbody>\n",
       "</table>\n",
       "</div>"
      ],
      "text/plain": [
       "   id  diagnosis_result  radius  texture  perimeter  area  smoothness  \\\n",
       "0   1                 1      23       12        151   954       0.143   \n",
       "1   2                 0       9       13        133  1326       0.143   \n",
       "2   3                 1      21       27        130  1203       0.125   \n",
       "3   4                 1      14       16         78   386       0.070   \n",
       "4   5                 1       9       19        135  1297       0.141   \n",
       "\n",
       "   compactness  symmetry  fractal_dimension  \n",
       "0        0.278     0.242              0.079  \n",
       "1        0.079     0.181              0.057  \n",
       "2        0.160     0.207              0.060  \n",
       "3        0.284     0.260              0.097  \n",
       "4        0.133     0.181              0.059  "
      ]
     },
     "execution_count": 95,
     "metadata": {},
     "output_type": "execute_result"
    }
   ],
   "source": [
    "df.head()"
   ]
  },
  {
   "cell_type": "code",
   "execution_count": 96,
   "metadata": {},
   "outputs": [
    {
     "data": {
      "text/plain": [
       "id                     int64\n",
       "diagnosis_result       int64\n",
       "radius                 int64\n",
       "texture                int64\n",
       "perimeter              int64\n",
       "area                   int64\n",
       "smoothness           float64\n",
       "compactness          float64\n",
       "symmetry             float64\n",
       "fractal_dimension    float64\n",
       "dtype: object"
      ]
     },
     "execution_count": 96,
     "metadata": {},
     "output_type": "execute_result"
    }
   ],
   "source": [
    "df.dtypes"
   ]
  },
  {
   "cell_type": "code",
   "execution_count": 97,
   "metadata": {},
   "outputs": [
    {
     "data": {
      "text/plain": [
       "id                   0\n",
       "diagnosis_result     0\n",
       "radius               0\n",
       "texture              0\n",
       "perimeter            0\n",
       "area                 0\n",
       "smoothness           0\n",
       "compactness          0\n",
       "symmetry             0\n",
       "fractal_dimension    0\n",
       "dtype: int64"
      ]
     },
     "execution_count": 97,
     "metadata": {},
     "output_type": "execute_result"
    }
   ],
   "source": [
    "df.isna().sum()"
   ]
  },
  {
   "cell_type": "code",
   "execution_count": 98,
   "metadata": {},
   "outputs": [],
   "source": [
    "x = df.drop(columns=['id','diagnosis_result'])\n",
    "y = df['diagnosis_result']\n"
   ]
  },
  {
   "cell_type": "code",
   "execution_count": 99,
   "metadata": {},
   "outputs": [],
   "source": [
    "\n",
    "X = (x - x.mean()) / x.std()  \n",
    "Y = y"
   ]
  },
  {
   "cell_type": "code",
   "execution_count": 100,
   "metadata": {},
   "outputs": [
    {
     "data": {
      "text/plain": [
       "0    1\n",
       "1    0\n",
       "2    1\n",
       "3    1\n",
       "4    1\n",
       "Name: diagnosis_result, dtype: int64"
      ]
     },
     "execution_count": 100,
     "metadata": {},
     "output_type": "execute_result"
    }
   ],
   "source": [
    "Y.head()"
   ]
  },
  {
   "cell_type": "code",
   "execution_count": 101,
   "metadata": {},
   "outputs": [],
   "source": [
    "# Split the data into training and testing sets\n",
    "split_ratio = 0.7\n",
    "split_index = int(len(X) * split_ratio)\n",
    "x_train, x_test = X[:split_index], X[split_index:]\n",
    "y_train , y_test = Y[:split_index], Y[split_index:]"
   ]
  },
  {
   "cell_type": "code",
   "execution_count": 102,
   "metadata": {},
   "outputs": [],
   "source": [
    "\n",
    "class kNN():\n",
    "    '''k-Nearest Neighbours'''\n",
    "    # Initialise\n",
    "    def __init__(self, k=3, metric='euclidean', p=None):\n",
    "        self.k = k\n",
    "        self.metric = metric\n",
    "        self.p = p\n",
    "    \n",
    "    # Euclidean distance (l2 norm)\n",
    "    def euclidean(self, v1, v2):\n",
    "        return np.sqrt(np.sum((v1-v2)**2))\n",
    "    \n",
    "    # Manhattan distance (l1 norm)\n",
    "    def manhattan(self, v1, v2):\n",
    "        return np.sum(np.abs(v1-v2))\n",
    "    \n",
    "    # Minkowski distance (lp norm)\n",
    "    def minkowski(self, v1, v2, p=2):\n",
    "        return np.sum(np.abs(v1-v2)**p)**(1/p)\n",
    "        \n",
    "    # Store train set\n",
    "    def fit(self, X_train, y_train):\n",
    "        X_train = np.array(X_train)\n",
    "        self.X_train = X_train\n",
    "        self.y_train = y_train\n",
    "        \n",
    "    # Make predictions\n",
    "    def predict(self, X_test):\n",
    "        preds = []\n",
    "        X_test = np.array(X_test)\n",
    "        # Loop over rows in test set\n",
    "        for test_row in X_test:\n",
    "            nearest_neighbours = self.get_neighbours(test_row)\n",
    "            classes, counts = np.unique(nearest_neighbours, return_counts=True)\n",
    "            majority_index = np.argmax(counts)\n",
    "            majority = classes[majority_index]\n",
    "            preds.append(majority)\n",
    "        return np.array(preds)\n",
    "    \n",
    "    # Get nearest neighbours\n",
    "    def get_neighbours(self, test_row):\n",
    "        distances = list()\n",
    "        \n",
    "        # Calculate distance to all points in X_train\n",
    "        for (train_row, train_class) in zip(self.X_train, self.y_train):\n",
    "            if self.metric=='euclidean':\n",
    "                dist = self.euclidean(train_row, test_row)\n",
    "            elif self.metric=='manhattan':\n",
    "                dist = self.manhattan(train_row, test_row)\n",
    "            elif self.metric=='minkowski':\n",
    "                dist = self.minkowski(train_row, test_row, self.p)\n",
    "            else:\n",
    "                raise NameError('Supported metrics are euclidean, manhattan and minkowski')\n",
    "            distances.append((dist, train_class))\n",
    "            \n",
    "        # Sort distances\n",
    "        distances.sort(key=lambda x: x[0])\n",
    "        \n",
    "        # Identify k nearest neighbours\n",
    "        neighbours = list()\n",
    "        for i in range(self.k):\n",
    "            neighbours.append(distances[i][1])\n",
    "            \n",
    "        return neighbours"
   ]
  },
  {
   "cell_type": "code",
   "execution_count": 103,
   "metadata": {},
   "outputs": [],
   "source": [
    "import numpy as np\n",
    "\n",
    "class RadiusNearestNeighbor:\n",
    "    def __init__(self, radius=1.0):\n",
    "        self.radius = radius\n",
    "        self.X_train = None\n",
    "        self.y_train = None\n",
    "\n",
    "    def fit(self, X, y):\n",
    "        self.X_train = np.array(X)\n",
    "        self.y_train = np.array(y)\n",
    "        self.most_frequent  = int(mode(y).mode[0])\n",
    "        \n",
    "\n",
    "    def predict(self, X):\n",
    "        X = np.array(X)\n",
    "        predictions = []\n",
    "        for x in X:\n",
    "            neighbors = self.find_neighbors(x)\n",
    "            \n",
    "            if neighbors :\n",
    "                # Majority voting to determine the predicted class\n",
    "                predicted_class = int(mode(neighbors).mode[0])\n",
    "                predictions.append(predicted_class)\n",
    "            else:\n",
    "                # If no neighbors found, assign a default label\n",
    "                predictions.append(self.most_frequent )\n",
    "        return np.array(predictions)\n",
    "\n",
    "    def find_neighbors(self, x):\n",
    "        neighbors = []\n",
    "        for i, x_train in enumerate(self.X_train):\n",
    "            distance = np.linalg.norm(x - x_train)\n",
    "            if distance <= self.radius:\n",
    "                neighbors.append(self.y_train[i])\n",
    "\n",
    "        if neighbors:\n",
    "            return neighbors\n",
    "        else:\n",
    "            return None\n"
   ]
  },
  {
   "cell_type": "code",
   "execution_count": 104,
   "metadata": {},
   "outputs": [],
   "source": [
    "knn =kNN()"
   ]
  },
  {
   "cell_type": "code",
   "execution_count": 105,
   "metadata": {},
   "outputs": [],
   "source": [
    "knn.fit(x_train , y_train)"
   ]
  },
  {
   "cell_type": "code",
   "execution_count": 106,
   "metadata": {},
   "outputs": [],
   "source": [
    "y_pre_knn = knn.predict (x_test)"
   ]
  },
  {
   "cell_type": "code",
   "execution_count": 107,
   "metadata": {},
   "outputs": [],
   "source": [
    "\n",
    "# cm = confusion_matrix(y_test, y_pre_knn)\n",
    "\n",
    "# disp = ConfusionMatrixDisplay(confusion_matrix=cm)\n",
    "# disp.plot()\n",
    "# plt.show()\n",
    "\n"
   ]
  },
  {
   "cell_type": "code",
   "execution_count": 108,
   "metadata": {},
   "outputs": [],
   "source": [
    "def confusion_matrix(y_true, y_pred):\n",
    "    true_positive = np.sum((y_true == 1) & (y_pred == 1))\n",
    "    false_positive = np.sum((y_true == 0) & (y_pred == 1))\n",
    "    true_negative = np.sum((y_true == 0) & (y_pred == 0))\n",
    "    false_negative = np.sum((y_true == 1) & (y_pred == 0))\n",
    "    \n",
    "    return np.array([[true_negative, false_positive],\n",
    "                     [false_negative, true_positive]])\n",
    "\n",
    "\n",
    "\n",
    "\n",
    "\n",
    "\n",
    "\n"
   ]
  },
  {
   "cell_type": "code",
   "execution_count": 109,
   "metadata": {},
   "outputs": [
    {
     "data": {
      "text/plain": [
       "array([[ 6,  9],\n",
       "       [ 0, 15]], dtype=int64)"
      ]
     },
     "execution_count": 109,
     "metadata": {},
     "output_type": "execute_result"
    }
   ],
   "source": [
    "cm = confusion_matrix(y_test, y_pre_knn)\n",
    "cm"
   ]
  },
  {
   "cell_type": "code",
   "execution_count": 110,
   "metadata": {},
   "outputs": [
    {
     "data": {
      "image/png": "[encoded data removed]",
      "text/plain": [
       "<Figure size 640x480 with 2 Axes>"
      ]
     },
     "metadata": {},
     "output_type": "display_data"
    }
   ],
   "source": [
    "\n",
    "disp = ConfusionMatrixDisplay(confusion_matrix=cm)\n",
    "disp.plot()\n",
    "plt.show()"
   ]
  },
  {
   "cell_type": "code",
   "execution_count": 111,
   "metadata": {},
   "outputs": [
    {
     "name": "stdout",
     "output_type": "stream",
     "text": [
      "Accuracy: 0.7\n",
      "Precision: 1.0\n",
      "Recall: 0.625\n",
      "F1-Score: 0.7692307692307693\n"
     ]
    }
   ],
   "source": [
    "TN = cm[0, 0]\n",
    "FP = cm[1, 0]\n",
    "TP = cm[1, 1]\n",
    "FN = cm[0, 1]\n",
    "\n",
    "# Calculate Accuracy\n",
    "accuracy = (TP + TN) / (TP + TN + FP + FN)\n",
    "\n",
    "# Calculate Precision\n",
    "precision = TP / (TP + FP)\n",
    "\n",
    "# Calculate Recall\n",
    "recall = TP / (TP + FN)\n",
    "\n",
    "# Calculate F1-Score\n",
    "f1_score = 2 * (precision * recall) / (precision + recall)\n",
    "\n",
    "print(\"Accuracy:\", accuracy)\n",
    "print(\"Precision:\", precision)\n",
    "print(\"Recall:\", recall)\n",
    "print(\"F1-Score:\", f1_score)"
   ]
  },
  {
   "cell_type": "code",
   "execution_count": 112,
   "metadata": {},
   "outputs": [
    {
     "name": "stderr",
     "output_type": "stream",
     "text": [
      "C:\\Users\\hp\\AppData\\Local\\Temp\\ipykernel_13504\\2830268033.py:12: FutureWarning: Unlike other reduction functions (e.g. `skew`, `kurtosis`), the default behavior of `mode` typically preserves the axis it acts along. In SciPy 1.11.0, this behavior will change: the default value of `keepdims` will become False, the `axis` over which the statistic is taken will be eliminated, and the value None will no longer be accepted. Set `keepdims` to True or False to avoid this warning.\n",
      "  self.most_frequent  = int(mode(y).mode[0])\n"
     ]
    }
   ],
   "source": [
    "# Create and train the RNN classifier\n",
    "rnn = RadiusNearestNeighbor(radius=2.0)\n",
    "rnn.fit(x_train, y_train)"
   ]
  },
  {
   "cell_type": "code",
   "execution_count": 113,
   "metadata": {},
   "outputs": [
    {
     "name": "stderr",
     "output_type": "stream",
     "text": [
      "C:\\Users\\hp\\AppData\\Local\\Temp\\ipykernel_13504\\2830268033.py:23: FutureWarning: Unlike other reduction functions (e.g. `skew`, `kurtosis`), the default behavior of `mode` typically preserves the axis it acts along. In SciPy 1.11.0, this behavior will change: the default value of `keepdims` will become False, the `axis` over which the statistic is taken will be eliminated, and the value None will no longer be accepted. Set `keepdims` to True or False to avoid this warning.\n",
      "  predicted_class = int(mode(neighbors).mode[0])\n"
     ]
    }
   ],
   "source": [
    "# Make predictions\n",
    "y_pre_rnn = rnn.predict(x_test)"
   ]
  },
  {
   "cell_type": "code",
   "execution_count": 114,
   "metadata": {},
   "outputs": [
    {
     "data": {
      "text/plain": [
       "array([[ 9,  6],\n",
       "       [ 0, 15]], dtype=int64)"
      ]
     },
     "execution_count": 114,
     "metadata": {},
     "output_type": "execute_result"
    }
   ],
   "source": [
    "cm = confusion_matrix(y_test, y_pre_rnn)\n",
    "cm"
   ]
  },
  {
   "cell_type": "code",
   "execution_count": 115,
   "metadata": {},
   "outputs": [
    {
     "data": {
      "image/png": "[encoded data removed]",
      "text/plain": [
       "<Figure size 640x480 with 2 Axes>"
      ]
     },
     "metadata": {},
     "output_type": "display_data"
    }
   ],
   "source": [
    "disp = ConfusionMatrixDisplay(confusion_matrix=cm)\n",
    "disp.plot()\n",
    "plt.show()"
   ]
  },
  {
   "cell_type": "code",
   "execution_count": 116,
   "metadata": {},
   "outputs": [
    {
     "name": "stdout",
     "output_type": "stream",
     "text": [
      "Accuracy: 0.8\n",
      "Precision: 1.0\n",
      "Recall: 0.7142857142857143\n",
      "F1-Score: 0.8333333333333333\n"
     ]
    }
   ],
   "source": [
    "TN = cm[0, 0]\n",
    "FP = cm[1, 0]\n",
    "TP = cm[1, 1]\n",
    "FN = cm[0, 1]\n",
    "\n",
    "# Calculate Accuracy\n",
    "accuracy = (TP + TN) / (TP + TN + FP + FN)\n",
    "\n",
    "# Calculate Precision\n",
    "precision = TP / (TP + FP)\n",
    "\n",
    "# Calculate Recall\n",
    "recall = TP / (TP + FN)\n",
    "\n",
    "# Calculate F1-Score\n",
    "f1_score = 2 * (precision * recall) / (precision + recall)\n",
    "\n",
    "print(\"Accuracy:\", accuracy)\n",
    "print(\"Precision:\", precision)\n",
    "print(\"Recall:\", recall)\n",
    "print(\"F1-Score:\", f1_score)"
   ]
  }
 ],
 "metadata": {
  "kernelspec": {
   "display_name": "Python 3",
   "language": "python",
   "name": "python3"
  },
  "language_info": {
   "codemirror_mode": {
    "name": "ipython",
    "version": 3
   },
   "file_extension": ".py",
   "mimetype": "text/x-python",
   "name": "python",
   "nbconvert_exporter": "python",
   "pygments_lexer": "ipython3",
   "version": "3.11.5"
  }
 },
 "nbformat": 4,
 "nbformat_minor": 2
}
